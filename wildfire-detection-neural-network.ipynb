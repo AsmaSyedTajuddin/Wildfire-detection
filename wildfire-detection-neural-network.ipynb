{
 "cells": [
  {
   "cell_type": "code",
   "execution_count": 1,
   "id": "571e69dd",
   "metadata": {
    "execution": {
     "iopub.execute_input": "2022-05-24T01:14:34.179747Z",
     "iopub.status.busy": "2022-05-24T01:14:34.175881Z",
     "iopub.status.idle": "2022-05-24T01:14:40.802144Z",
     "shell.execute_reply": "2022-05-24T01:14:40.802621Z",
     "shell.execute_reply.started": "2022-04-12T05:42:43.603819Z"
    },
    "papermill": {
     "duration": 6.642674,
     "end_time": "2022-05-24T01:14:40.802895",
     "exception": false,
     "start_time": "2022-05-24T01:14:34.160221",
     "status": "completed"
    },
    "tags": []
   },
   "outputs": [],
   "source": [
    "# Import Libraries\n",
    "import pandas as pd\n",
    "import tensorflow as tf\n",
    "from tensorflow.keras.models import Sequential\n",
    "from tensorflow.keras import datasets, layers, models\n",
    "from tensorflow.keras.layers import (\n",
    "    BatchNormalization, Conv2D, MaxPooling2D, Flatten, Dropout, Dense\n",
    ")\n",
    "import matplotlib.pyplot as plt\n",
    "import numpy as np\n",
    "import os\n",
    "import glob\n",
    "from tqdm import tqdm\n",
    "import cv2\n",
    "import sklearn\n",
    "import skimage\n",
    "from skimage.transform import resize\n",
    "import random\n",
    "from keras.preprocessing.image import ImageDataGenerator\n",
    "from sklearn.metrics import accuracy_score\n",
    "import seaborn as sns\n",
    "sns.set()"
   ]
  },
  {
   "cell_type": "code",
   "execution_count": 2,
   "id": "5ae85cf6",
   "metadata": {
    "execution": {
     "iopub.execute_input": "2022-05-24T01:14:40.852935Z",
     "iopub.status.busy": "2022-05-24T01:14:40.852150Z",
     "iopub.status.idle": "2022-05-24T01:14:50.125082Z",
     "shell.execute_reply": "2022-05-24T01:14:50.124139Z",
     "shell.execute_reply.started": "2022-04-12T05:42:50.363942Z"
    },
    "papermill": {
     "duration": 9.306045,
     "end_time": "2022-05-24T01:14:50.125229",
     "exception": false,
     "start_time": "2022-05-24T01:14:40.819184",
     "status": "completed"
    },
    "tags": []
   },
   "outputs": [
    {
     "name": "stderr",
     "output_type": "stream",
     "text": [
      "100%|██████████| 904/904 [00:03<00:00, 231.82it/s]\n",
      "100%|██████████| 928/928 [00:03<00:00, 260.74it/s]\n",
      "100%|██████████| 46/46 [00:00<00:00, 268.65it/s]\n",
      "100%|██████████| 22/22 [00:00<00:00, 260.84it/s]\n"
     ]
    }
   ],
   "source": [
    "train = \"../input/wildfire-detection-image-data/forest_fire/Training and Validation\"\n",
    "\n",
    "test = \"../input/wildfire-detection-image-data/forest_fire/Testing\"\n",
    "\n",
    "\n",
    "\n",
    "LOAD_FROM_IMAGES = True\n",
    "\n",
    "def get_data(folder):\n",
    "    x = []\n",
    "    y = []\n",
    "    for folderName in os.listdir(folder):\n",
    "        if not folderName.startswith(\".\"):\n",
    "            if folderName in [\"nofire\"]:\n",
    "                label = 0\n",
    "            elif folderName in [\"fire\"]:\n",
    "                label = 1\n",
    "            else:\n",
    "                label = 2\n",
    "            for image_filename in tqdm(os.listdir(folder +\"/\" +folderName+\"/\")):\n",
    "                img_file = cv2.imread(folder + \"/\" +folderName + \"/\" + image_filename)\n",
    "                if img_file is not None:\n",
    "                    img_arr = np.asarray(img_file)\n",
    "                    x.append(img_arr)\n",
    "                    y.append(label)\n",
    "    x = np.asarray(x)\n",
    "    y = np.asarray(y)\n",
    "    return x,y\n",
    "\n",
    "if LOAD_FROM_IMAGES:\n",
    "    X_train,y_train = get_data(train)\n",
    "    X_test, y_test = get_data(test)\n",
    "    \n",
    "    np.save(\"xtrain.npy\",X_train)\n",
    "    np.save(\"ytrain.npy\",y_train)\n",
    "    np.save(\"xtest.npy\",X_test)\n",
    "    np.save(\"ytest.npy\",y_test)\n",
    "else:\n",
    "    X_train = np.load(\"xtrain.npy\")\n",
    "    y_train = np.load(\"ytrain.npy\")\n",
    "    X_test = np.load(\"xtest.npy\")\n",
    "    y_test = np.load(\"ytest.npy\")\n",
    "\n",
    "from sklearn.model_selection import train_test_split\n",
    "\n",
    "# Split the data\n",
    "X_train, X_valid, y_train, y_valid = train_test_split(X_train,y_train,test_size=0.2,shuffle=True)\n",
    "\n",
    "# Image Normalization\n",
    "X_train, X_valid, X_test = X_train / 255.0, X_valid / 255.0, X_test / 255.0"
   ]
  },
  {
   "cell_type": "code",
   "execution_count": 3,
   "id": "50a450aa",
   "metadata": {
    "execution": {
     "iopub.execute_input": "2022-05-24T01:14:50.206609Z",
     "iopub.status.busy": "2022-05-24T01:14:50.205991Z",
     "iopub.status.idle": "2022-05-24T01:14:50.209139Z",
     "shell.execute_reply": "2022-05-24T01:14:50.209557Z",
     "shell.execute_reply.started": "2022-04-12T05:43:02.324864Z"
    },
    "papermill": {
     "duration": 0.047921,
     "end_time": "2022-05-24T01:14:50.209686",
     "exception": false,
     "start_time": "2022-05-24T01:14:50.161765",
     "status": "completed"
    },
    "tags": []
   },
   "outputs": [
    {
     "data": {
      "text/plain": [
       "(1465, 250, 250, 3)"
      ]
     },
     "execution_count": 3,
     "metadata": {},
     "output_type": "execute_result"
    }
   ],
   "source": [
    "X_train.shape"
   ]
  },
  {
   "cell_type": "code",
   "execution_count": 4,
   "id": "51a226f5",
   "metadata": {
    "execution": {
     "iopub.execute_input": "2022-05-24T01:14:50.296974Z",
     "iopub.status.busy": "2022-05-24T01:14:50.295655Z",
     "iopub.status.idle": "2022-05-24T01:14:53.159866Z",
     "shell.execute_reply": "2022-05-24T01:14:53.160392Z",
     "shell.execute_reply.started": "2022-04-12T05:43:02.343302Z"
    },
    "papermill": {
     "duration": 2.913194,
     "end_time": "2022-05-24T01:14:53.160561",
     "exception": false,
     "start_time": "2022-05-24T01:14:50.247367",
     "status": "completed"
    },
    "tags": []
   },
   "outputs": [
    {
     "name": "stderr",
     "output_type": "stream",
     "text": [
      "2022-05-24 01:14:50.376058: I tensorflow/stream_executor/cuda/cuda_gpu_executor.cc:937] successful NUMA node read from SysFS had negative value (-1), but there must be at least one NUMA node, so returning NUMA node zero\n",
      "2022-05-24 01:14:50.520900: I tensorflow/stream_executor/cuda/cuda_gpu_executor.cc:937] successful NUMA node read from SysFS had negative value (-1), but there must be at least one NUMA node, so returning NUMA node zero\n",
      "2022-05-24 01:14:50.521723: I tensorflow/stream_executor/cuda/cuda_gpu_executor.cc:937] successful NUMA node read from SysFS had negative value (-1), but there must be at least one NUMA node, so returning NUMA node zero\n",
      "2022-05-24 01:14:50.522924: I tensorflow/core/platform/cpu_feature_guard.cc:142] This TensorFlow binary is optimized with oneAPI Deep Neural Network Library (oneDNN) to use the following CPU instructions in performance-critical operations:  AVX2 AVX512F FMA\n",
      "To enable them in other operations, rebuild TensorFlow with the appropriate compiler flags.\n",
      "2022-05-24 01:14:50.524209: I tensorflow/stream_executor/cuda/cuda_gpu_executor.cc:937] successful NUMA node read from SysFS had negative value (-1), but there must be at least one NUMA node, so returning NUMA node zero\n",
      "2022-05-24 01:14:50.524909: I tensorflow/stream_executor/cuda/cuda_gpu_executor.cc:937] successful NUMA node read from SysFS had negative value (-1), but there must be at least one NUMA node, so returning NUMA node zero\n",
      "2022-05-24 01:14:50.525617: I tensorflow/stream_executor/cuda/cuda_gpu_executor.cc:937] successful NUMA node read from SysFS had negative value (-1), but there must be at least one NUMA node, so returning NUMA node zero\n",
      "2022-05-24 01:14:52.658453: I tensorflow/stream_executor/cuda/cuda_gpu_executor.cc:937] successful NUMA node read from SysFS had negative value (-1), but there must be at least one NUMA node, so returning NUMA node zero\n",
      "2022-05-24 01:14:52.659360: I tensorflow/stream_executor/cuda/cuda_gpu_executor.cc:937] successful NUMA node read from SysFS had negative value (-1), but there must be at least one NUMA node, so returning NUMA node zero\n",
      "2022-05-24 01:14:52.660045: I tensorflow/stream_executor/cuda/cuda_gpu_executor.cc:937] successful NUMA node read from SysFS had negative value (-1), but there must be at least one NUMA node, so returning NUMA node zero\n",
      "2022-05-24 01:14:52.660673: I tensorflow/core/common_runtime/gpu/gpu_device.cc:1510] Created device /job:localhost/replica:0/task:0/device:GPU:0 with 15403 MB memory:  -> device: 0, name: Tesla P100-PCIE-16GB, pci bus id: 0000:00:04.0, compute capability: 6.0\n"
     ]
    }
   ],
   "source": [
    "model = models.Sequential()\n",
    "\n",
    "model.add(layers.Conv2D(96,(11,11),strides=(4, 4),activation=\"relu\",input_shape=(227,227,3)))\n",
    "model.add(BatchNormalization())\n",
    "model.add(layers.MaxPooling2D((3,3), strides=(2,2)))\n",
    "\n",
    "model.add(layers.Conv2D(256,(5,5),activation=\"relu\",padding=\"same\"))\n",
    "model.add(BatchNormalization())\n",
    "model.add(layers.MaxPooling2D((3,3), strides=(2,2)))\n",
    "\n",
    "model.add(layers.Conv2D(384,(3,3),activation=\"relu\",padding=\"same\"))\n",
    "model.add(BatchNormalization())\n",
    "model.add(layers.Conv2D(384,(3,3),activation=\"relu\",padding=\"same\"))\n",
    "model.add(BatchNormalization())\n",
    "model.add(layers.Conv2D(256,(3,3),activation=\"relu\",padding=\"same\"))\n",
    "model.add(BatchNormalization())\n",
    "model.add(layers.MaxPooling2D((3,3), strides=(2,2)))\n",
    "\n",
    "model.add(layers.Flatten())\n",
    "\n",
    "# Fully connected\n",
    "model.add(layers.Dense(4096,activation=\"relu\"))\n",
    "model.add(Dropout(0.5))\n",
    "\n",
    "model.add(layers.Dense(4096,activation=\"relu\"))\n",
    "model.add(Dropout(0.5))\n",
    "\n",
    "model.add(layers.Dense(2,activation=\"softmax\"))"
   ]
  },
  {
   "cell_type": "code",
   "execution_count": 5,
   "id": "cabe5c90",
   "metadata": {
    "execution": {
     "iopub.execute_input": "2022-05-24T01:14:53.245500Z",
     "iopub.status.busy": "2022-05-24T01:14:53.244669Z",
     "iopub.status.idle": "2022-05-24T01:14:53.250627Z",
     "shell.execute_reply": "2022-05-24T01:14:53.250210Z",
     "shell.execute_reply.started": "2022-04-12T05:43:04.902046Z"
    },
    "papermill": {
     "duration": 0.052015,
     "end_time": "2022-05-24T01:14:53.250736",
     "exception": false,
     "start_time": "2022-05-24T01:14:53.198721",
     "status": "completed"
    },
    "tags": []
   },
   "outputs": [],
   "source": [
    "model.compile(optimizer = \"adam\" , loss = \"sparse_categorical_crossentropy\", metrics=[\"accuracy\"])"
   ]
  },
  {
   "cell_type": "code",
   "execution_count": 6,
   "id": "f7e414c8",
   "metadata": {
    "execution": {
     "iopub.execute_input": "2022-05-24T01:14:53.326419Z",
     "iopub.status.busy": "2022-05-24T01:14:53.325769Z",
     "iopub.status.idle": "2022-05-24T01:14:53.328114Z",
     "shell.execute_reply": "2022-05-24T01:14:53.328499Z",
     "shell.execute_reply.started": "2022-04-12T05:43:04.934550Z"
    },
    "papermill": {
     "duration": 0.042476,
     "end_time": "2022-05-24T01:14:53.328622",
     "exception": false,
     "start_time": "2022-05-24T01:14:53.286146",
     "status": "completed"
    },
    "tags": []
   },
   "outputs": [],
   "source": [
    "from tensorflow.keras.callbacks import EarlyStopping\n",
    "\n",
    "early_stopping = EarlyStopping(\n",
    "    monitor=\"accuracy\",\n",
    "    patience=5,\n",
    "    restore_best_weights=True)"
   ]
  },
  {
   "cell_type": "code",
   "execution_count": 7,
   "id": "5c7e81d9",
   "metadata": {
    "execution": {
     "iopub.execute_input": "2022-05-24T01:14:53.405118Z",
     "iopub.status.busy": "2022-05-24T01:14:53.404259Z",
     "iopub.status.idle": "2022-05-24T01:15:49.016827Z",
     "shell.execute_reply": "2022-05-24T01:15:49.017339Z",
     "shell.execute_reply.started": "2022-04-12T05:57:12.806317Z"
    },
    "papermill": {
     "duration": 55.653786,
     "end_time": "2022-05-24T01:15:49.017529",
     "exception": false,
     "start_time": "2022-05-24T01:14:53.363743",
     "status": "completed"
    },
    "tags": []
   },
   "outputs": [
    {
     "name": "stderr",
     "output_type": "stream",
     "text": [
      "2022-05-24 01:14:53.821886: W tensorflow/core/framework/cpu_allocator_impl.cc:80] Allocation of 1098750000 exceeds 10% of free system memory.\n",
      "2022-05-24 01:14:55.027469: W tensorflow/core/framework/cpu_allocator_impl.cc:80] Allocation of 1098750000 exceeds 10% of free system memory.\n",
      "2022-05-24 01:14:55.832921: I tensorflow/compiler/mlir/mlir_graph_optimization_pass.cc:185] None of the MLIR Optimization Passes are enabled (registered 2)\n"
     ]
    },
    {
     "name": "stdout",
     "output_type": "stream",
     "text": [
      "Epoch 1/50\n"
     ]
    },
    {
     "name": "stderr",
     "output_type": "stream",
     "text": [
      "2022-05-24 01:14:57.373382: I tensorflow/stream_executor/cuda/cuda_dnn.cc:369] Loaded cuDNN version 8005\n"
     ]
    },
    {
     "name": "stdout",
     "output_type": "stream",
     "text": [
      "184/184 [==============================] - 12s 24ms/step - loss: 15.5750 - accuracy: 0.8096 - val_loss: 6.9496 - val_accuracy: 0.7357\n",
      "Epoch 2/50\n",
      "184/184 [==============================] - 4s 20ms/step - loss: 4.3993 - accuracy: 0.8614 - val_loss: 3.6199 - val_accuracy: 0.8038\n",
      "Epoch 3/50\n",
      "184/184 [==============================] - 4s 19ms/step - loss: 3.8060 - accuracy: 0.8396 - val_loss: 2.4075 - val_accuracy: 0.8992\n",
      "Epoch 4/50\n",
      "184/184 [==============================] - 4s 19ms/step - loss: 1.5764 - accuracy: 0.8724 - val_loss: 1.1365 - val_accuracy: 0.9373\n",
      "Epoch 5/50\n",
      "184/184 [==============================] - 4s 20ms/step - loss: 3.5938 - accuracy: 0.8546 - val_loss: 3.8098 - val_accuracy: 0.8065\n",
      "Epoch 6/50\n",
      "184/184 [==============================] - 4s 19ms/step - loss: 2.8005 - accuracy: 0.8205 - val_loss: 4.9927 - val_accuracy: 0.7684\n",
      "Epoch 7/50\n",
      "184/184 [==============================] - 4s 19ms/step - loss: 1.5566 - accuracy: 0.8765 - val_loss: 0.2767 - val_accuracy: 0.9401\n",
      "Epoch 8/50\n",
      "184/184 [==============================] - 4s 19ms/step - loss: 1.4543 - accuracy: 0.8580 - val_loss: 0.8976 - val_accuracy: 0.8120\n",
      "Epoch 9/50\n",
      "184/184 [==============================] - 4s 19ms/step - loss: 1.5208 - accuracy: 0.8430 - val_loss: 5.9235 - val_accuracy: 0.7602\n",
      "Epoch 10/50\n",
      "184/184 [==============================] - 4s 19ms/step - loss: 1.8751 - accuracy: 0.8758 - val_loss: 3.0147 - val_accuracy: 0.8556\n",
      "Epoch 11/50\n",
      "184/184 [==============================] - 4s 21ms/step - loss: 1.5085 - accuracy: 0.8498 - val_loss: 1.1150 - val_accuracy: 0.6376\n",
      "Epoch 12/50\n",
      "184/184 [==============================] - 4s 20ms/step - loss: 0.9445 - accuracy: 0.8546 - val_loss: 0.2992 - val_accuracy: 0.9319\n"
     ]
    }
   ],
   "source": [
    "batch_size=8\n",
    "epochs=50\n",
    "\n",
    "history =  model.fit(X_train,y_train,validation_data=(X_valid,y_valid),batch_size=batch_size,\n",
    "                    epochs=epochs,verbose=1,callbacks=[early_stopping])"
   ]
  },
  {
   "cell_type": "code",
   "execution_count": 8,
   "id": "9c14a260",
   "metadata": {
    "execution": {
     "iopub.execute_input": "2022-05-24T01:15:49.546001Z",
     "iopub.status.busy": "2022-05-24T01:15:49.544939Z",
     "iopub.status.idle": "2022-05-24T01:16:18.721823Z",
     "shell.execute_reply": "2022-05-24T01:16:18.721230Z",
     "shell.execute_reply.started": "2022-04-12T05:58:46.111228Z"
    },
    "papermill": {
     "duration": 29.441421,
     "end_time": "2022-05-24T01:16:18.722004",
     "exception": false,
     "start_time": "2022-05-24T01:15:49.280583",
     "status": "completed"
    },
    "tags": []
   },
   "outputs": [
    {
     "name": "stdout",
     "output_type": "stream",
     "text": [
      "9/9 [==============================] - 0s 18ms/step - loss: 0.4498 - accuracy: 0.9412\n",
      "Test loss: 0.4498293101787567\n",
      "Test accuracy: 0.9411764740943909\n"
     ]
    }
   ],
   "source": [
    "score = model.evaluate(X_test, y_test, batch_size=batch_size, verbose=1)\n",
    "\n",
    "print('Test loss:', score[0])\n",
    "print('Test accuracy:', score[1])"
   ]
  },
  {
   "cell_type": "code",
   "execution_count": 9,
   "id": "2bb69a65",
   "metadata": {
    "execution": {
     "iopub.execute_input": "2022-05-24T01:16:19.269899Z",
     "iopub.status.busy": "2022-05-24T01:16:19.269036Z",
     "iopub.status.idle": "2022-05-24T01:16:20.570496Z",
     "shell.execute_reply": "2022-05-24T01:16:20.569818Z"
    },
    "papermill": {
     "duration": 1.582659,
     "end_time": "2022-05-24T01:16:20.570629",
     "exception": false,
     "start_time": "2022-05-24T01:16:18.987970",
     "status": "completed"
    },
    "tags": []
   },
   "outputs": [],
   "source": [
    "model.save(\"wildfire_model.h5\")"
   ]
  },
  {
   "cell_type": "code",
   "execution_count": 10,
   "id": "617eceb3",
   "metadata": {
    "execution": {
     "iopub.execute_input": "2022-05-24T01:16:21.143990Z",
     "iopub.status.busy": "2022-05-24T01:16:21.143100Z",
     "iopub.status.idle": "2022-05-24T01:16:21.643432Z",
     "shell.execute_reply": "2022-05-24T01:16:21.642930Z",
     "shell.execute_reply.started": "2022-04-12T06:01:11.215014Z"
    },
    "papermill": {
     "duration": 0.795548,
     "end_time": "2022-05-24T01:16:21.643559",
     "exception": false,
     "start_time": "2022-05-24T01:16:20.848011",
     "status": "completed"
    },
    "tags": []
   },
   "outputs": [
    {
     "data": {
      "image/png": "[encoded data removed]",
      "text/plain": [
       "<Figure size 432x360 with 1 Axes>"
      ]
     },
     "metadata": {
      "needs_background": "light"
     },
     "output_type": "display_data"
    }
   ],
   "source": [
    "from matplotlib import pyplot as plt\n",
    "%matplotlib inline \n",
    "\n",
    "plt.figure(figsize=(6, 5))\n",
    "plt.plot(history.history['accuracy'], color='r')\n",
    "plt.plot(history.history['val_accuracy'], color='b')\n",
    "plt.title('Model Accuracy', weight='bold', fontsize=16)\n",
    "plt.ylabel('accuracy', weight='bold', fontsize=14)\n",
    "plt.xlabel('epoch', weight='bold', fontsize=14)\n",
    "plt.ylim(0.6, 1.0)\n",
    "plt.xticks(weight='bold', fontsize=12)\n",
    "plt.yticks(weight='bold', fontsize=12)\n",
    "plt.legend(['train', 'val'], loc='upper left', prop={'size': 14})\n",
    "plt.grid(color = 'y', linewidth='0.5')\n",
    "plt.show()"
   ]
  },
  {
   "cell_type": "code",
   "execution_count": 11,
   "id": "3cb3ab91",
   "metadata": {
    "execution": {
     "iopub.execute_input": "2022-05-24T01:16:22.184747Z",
     "iopub.status.busy": "2022-05-24T01:16:22.183660Z",
     "iopub.status.idle": "2022-05-24T01:16:23.065669Z",
     "shell.execute_reply": "2022-05-24T01:16:23.066207Z",
     "shell.execute_reply.started": "2022-04-12T06:01:19.608596Z"
    },
    "papermill": {
     "duration": 1.157555,
     "end_time": "2022-05-24T01:16:23.066373",
     "exception": false,
     "start_time": "2022-05-24T01:16:21.908818",
     "status": "completed"
    },
    "tags": []
   },
   "outputs": [
    {
     "name": "stdout",
     "output_type": "stream",
     "text": [
      "              precision    recall  f1-score   support\n",
      "\n",
      "           0       0.94      0.98      0.96        46\n",
      "           1       0.95      0.86      0.90        22\n",
      "\n",
      "    accuracy                           0.94        68\n",
      "   macro avg       0.94      0.92      0.93        68\n",
      "weighted avg       0.94      0.94      0.94        68\n",
      "\n"
     ]
    },
    {
     "data": {
      "image/png": "[encoded data removed]",
      "text/plain": [
       "<Figure size 720x720 with 2 Axes>"
      ]
     },
     "metadata": {
      "needs_background": "light"
     },
     "output_type": "display_data"
    }
   ],
   "source": [
    "y_test_pred = model.predict(X_test)\n",
    "\n",
    "y_pred = (y_test_pred > 0.5)\n",
    "y_pred=np.argmax(y_pred, axis=1)\n",
    "\n",
    "from sklearn.metrics import classification_report\n",
    "from sklearn.metrics import confusion_matrix\n",
    "\n",
    "y_pred.shape\n",
    "\n",
    "y_test.shape\n",
    "\n",
    "print(classification_report(y_test, y_pred)) \n",
    "\n",
    "def confusion(y_test,y_test_pred,X):\n",
    "    names=['No Fire','Fire']\n",
    "    cm=confusion_matrix(y_test,y_test_pred)\n",
    "    f,ax=plt.subplots(figsize=(10,10))\n",
    "    sns.heatmap(cm,annot=True,linewidth=.5,linecolor=\"r\",fmt=\".0f\",ax=ax)\n",
    "    plt.title(X, size = 25)\n",
    "    plt.xlabel(\"y_pred\")\n",
    "    plt.ylabel(\"y_true\")\n",
    "    ax.set_xticklabels(names)\n",
    "    ax.set_yticklabels(names)\n",
    "    plt.show()\n",
    "\n",
    "    return\n",
    "\n",
    "confusion(y_test,y_pred,\"CNN\")"
   ]
  }
 ],
 "metadata": {
  "kernelspec": {
   "display_name": "Python 3",
   "language": "python",
   "name": "python3"
  },
  "language_info": {
   "codemirror_mode": {
    "name": "ipython",
    "version": 3
   },
   "file_extension": ".py",
   "mimetype": "text/x-python",
   "name": "python",
   "nbconvert_exporter": "python",
   "pygments_lexer": "ipython3",
   "version": "3.7.12"
  },
  "papermill": {
   "default_parameters": {},
   "duration": 120.390019,
   "end_time": "2022-05-24T01:16:26.516642",
   "environment_variables": {},
   "exception": null,
   "input_path": "__notebook__.ipynb",
   "output_path": "__notebook__.ipynb",
   "parameters": {},
   "start_time": "2022-05-24T01:14:26.126623",
   "version": "2.3.3"
  }
 },
 "nbformat": 4,
 "nbformat_minor": 5
}
